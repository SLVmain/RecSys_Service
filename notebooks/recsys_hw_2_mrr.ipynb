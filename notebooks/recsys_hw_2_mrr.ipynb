{
  "cells": [
    {
      "cell_type": "markdown",
      "metadata": {
        "id": "L8jlXqYwHUbC"
      },
      "source": [
        "#HOMEWORK"
      ]
    },
    {
      "cell_type": "markdown",
      "metadata": {
        "id": "5IUGj82ze_1F"
      },
      "source": [
        "MRR\n",
        "Исходные данные - результат generate_subsample\n",
        "\n",
        "Задача - по аналогии с precision написать три версии функции подсчета Mean Reciprocal Rank (naive, numba, pandas) и протестировать на разных размерах выборки\n",
        "\n",
        "Протестируйте для всех комбинаций (users_count, top_k):\n",
        "users_count - [100, 1000, 10000, 100000]\n",
        "top_k - [10, 50, 100]\n",
        "Результатом тестирования должен быть график, где будут отражены следующие показатели:\n",
        "Алгоритм - naive, numba, pandas\n",
        "Скорость работы (время)\n",
        "users_count\n",
        "top_k"
      ]
    },
    {
      "cell_type": "markdown",
      "metadata": {
        "id": "N14DLAsUeTz9"
      },
      "source": [
        "Mean Reciprocal Rank\n",
        "\n",
        "- Считаем для первых k рекоммендаций\n",
        "- Найти ранк первого релевантного предсказания $k_u$\n",
        "- Посчитать reciprocal rank = $\\frac{1}{k_u}$\n",
        "\n",
        "$$MRR = mean(\\frac{1}{k_u})$$\n"
      ]
    },
    {
      "cell_type": "code",
      "execution_count": null,
      "metadata": {
        "id": "9hSL44DMKJAu"
      },
      "outputs": [],
      "source": [
        "!pip install rectools"
      ]
    },
    {
      "cell_type": "code",
      "execution_count": 1,
      "metadata": {
        "id": "Ub602FYYHGPu"
      },
      "outputs": [],
      "source": [
        "import pandas as pd\n",
        "import numpy as np\n",
        "import numba as nb\n",
        "import timeit\n",
        "import requests\n",
        "from tqdm.auto import tqdm\n",
        "from rectools import Columns\n",
        "from matplotlib import pyplot as plt"
      ]
    },
    {
      "cell_type": "code",
      "execution_count": 2,
      "metadata": {
        "id": "nKNlUyGTHO51"
      },
      "outputs": [],
      "source": [
        "np.random.seed(23)"
      ]
    },
    {
      "cell_type": "markdown",
      "metadata": {
        "id": "_IqltZR6J1Ml"
      },
      "source": [
        "#Get KION dataset"
      ]
    },
    {
      "cell_type": "code",
      "execution_count": 7,
      "metadata": {
        "colab": {
          "base_uri": "https://localhost:8080/",
          "height": 49,
          "referenced_widgets": [
            "2b240e53c4984a9d98c69f8cd69d6dc1",
            "b88917b5274d40b2b48e4576275cff7c",
            "40d227204fe34cb999aa4270154e7a0a",
            "4974a1755c694e8b80b1d7943f4f7183",
            "c7b2f2e79a304ef08549dce2aeae519d",
            "dbf437c0b74c4760968e8bbc97141eb2",
            "bbbef68ef4824507aab89f57b6398328",
            "2966eb8831eb4c92a8b7bfff8d293169",
            "82422570d54a419ea2a2f608452f1379",
            "495b19044d364d27827649cb88d656cd",
            "c3c3cfef71d84704b0866beea14b0938"
          ]
        },
        "id": "RH2y2aZDJ3gC",
        "outputId": "0609e286-6569-4eec-de93-4eb093a9094b"
      },
      "outputs": [
        {
          "data": {
            "application/vnd.jupyter.widget-view+json": {
              "model_id": "2b240e53c4984a9d98c69f8cd69d6dc1",
              "version_major": 2,
              "version_minor": 0
            },
            "text/plain": [
              "kion dataset download:   0%|          | 0.00/78.8M [00:00<?, ?iB/s]"
            ]
          },
          "metadata": {},
          "output_type": "display_data"
        }
      ],
      "source": [
        "url = 'https://github.com/irsafilo/KION_DATASET/raw/f69775be31fa5779907cf0a92ddedb70037fb5ae/data_original.zip'\n",
        "req = requests.get(url, stream=True)\n",
        "\n",
        "with open('kion.zip', 'wb') as fd:\n",
        "    total_size_in_bytes = int(req.headers.get('Content-Length', 0))\n",
        "    progress_bar = tqdm(desc='kion dataset download', total=total_size_in_bytes, unit='iB', unit_scale=True)\n",
        "    for chunk in req.iter_content(chunk_size=2 ** 20):\n",
        "        progress_bar.update(len(chunk))\n",
        "        fd.write(chunk)"
      ]
    },
    {
      "cell_type": "code",
      "execution_count": 8,
      "metadata": {
        "colab": {
          "base_uri": "https://localhost:8080/"
        },
        "id": "KGsvf4xhKYvn",
        "outputId": "1e53cefa-b226-4199-8d2d-77d77e3db23d"
      },
      "outputs": [
        {
          "name": "stdout",
          "output_type": "stream",
          "text": [
            "Archive:  kion.zip\n",
            "   creating: data_original/\n",
            "  inflating: data_original/interactions.csv  \n",
            "  inflating: __MACOSX/data_original/._interactions.csv  \n",
            "  inflating: data_original/users.csv  \n",
            "  inflating: __MACOSX/data_original/._users.csv  \n",
            "  inflating: data_original/items.csv  \n",
            "  inflating: __MACOSX/data_original/._items.csv  \n"
          ]
        }
      ],
      "source": [
        "!unzip kion.zip"
      ]
    },
    {
      "cell_type": "code",
      "execution_count": 3,
      "metadata": {
        "id": "5uALmFNiKeeU"
      },
      "outputs": [],
      "source": [
        "# Read data\n",
        "interactions = pd.read_csv('data_original/interactions.csv')\n",
        "\n",
        "interactions.rename(\n",
        "    columns={\n",
        "        'track_id': Columns.Item,\n",
        "        'last_watch_dt': Columns.Datetime,\n",
        "        'total_dur': Columns.Weight\n",
        "    }, \n",
        "    inplace=True) "
      ]
    },
    {
      "cell_type": "code",
      "execution_count": 4,
      "metadata": {
        "id": "N2P1bWwaKm3K"
      },
      "outputs": [],
      "source": [
        "interactions[Columns.Datetime] = pd.to_datetime(interactions[Columns.Datetime])"
      ]
    },
    {
      "cell_type": "code",
      "execution_count": 5,
      "metadata": {
        "id": "muzmCrx3Ko4I"
      },
      "outputs": [],
      "source": [
        "users = pd.read_csv('data_original/users.csv')\n",
        "items = pd.read_csv('data_original/items.csv')"
      ]
    },
    {
      "cell_type": "code",
      "execution_count": 6,
      "metadata": {
        "colab": {
          "base_uri": "https://localhost:8080/",
          "height": 363
        },
        "id": "y6lxz0M4Kxrl",
        "outputId": "a3ca8fc9-7698-4f8e-b5fc-cce163cb7061"
      },
      "outputs": [
        {
          "data": {
            "text/html": [
              "\n",
              "  <div id=\"df-cbe32b87-d294-4b7c-a158-62cb25a7950f\">\n",
              "    <div class=\"colab-df-container\">\n",
              "      <div>\n",
              "<style scoped>\n",
              "    .dataframe tbody tr th:only-of-type {\n",
              "        vertical-align: middle;\n",
              "    }\n",
              "\n",
              "    .dataframe tbody tr th {\n",
              "        vertical-align: top;\n",
              "    }\n",
              "\n",
              "    .dataframe thead th {\n",
              "        text-align: right;\n",
              "    }\n",
              "</style>\n",
              "<table border=\"1\" class=\"dataframe\">\n",
              "  <thead>\n",
              "    <tr style=\"text-align: right;\">\n",
              "      <th></th>\n",
              "      <th>user_id</th>\n",
              "      <th>item_id</th>\n",
              "      <th>datetime</th>\n",
              "      <th>weight</th>\n",
              "      <th>watched_pct</th>\n",
              "    </tr>\n",
              "  </thead>\n",
              "  <tbody>\n",
              "    <tr>\n",
              "      <th>0</th>\n",
              "      <td>176549</td>\n",
              "      <td>9506</td>\n",
              "      <td>2021-05-11</td>\n",
              "      <td>4250</td>\n",
              "      <td>72.0</td>\n",
              "    </tr>\n",
              "    <tr>\n",
              "      <th>1</th>\n",
              "      <td>699317</td>\n",
              "      <td>1659</td>\n",
              "      <td>2021-05-29</td>\n",
              "      <td>8317</td>\n",
              "      <td>100.0</td>\n",
              "    </tr>\n",
              "    <tr>\n",
              "      <th>2</th>\n",
              "      <td>656683</td>\n",
              "      <td>7107</td>\n",
              "      <td>2021-05-09</td>\n",
              "      <td>10</td>\n",
              "      <td>0.0</td>\n",
              "    </tr>\n",
              "    <tr>\n",
              "      <th>3</th>\n",
              "      <td>864613</td>\n",
              "      <td>7638</td>\n",
              "      <td>2021-07-05</td>\n",
              "      <td>14483</td>\n",
              "      <td>100.0</td>\n",
              "    </tr>\n",
              "    <tr>\n",
              "      <th>4</th>\n",
              "      <td>964868</td>\n",
              "      <td>9506</td>\n",
              "      <td>2021-04-30</td>\n",
              "      <td>6725</td>\n",
              "      <td>100.0</td>\n",
              "    </tr>\n",
              "    <tr>\n",
              "      <th>5476246</th>\n",
              "      <td>648596</td>\n",
              "      <td>12225</td>\n",
              "      <td>2021-08-13</td>\n",
              "      <td>76</td>\n",
              "      <td>0.0</td>\n",
              "    </tr>\n",
              "    <tr>\n",
              "      <th>5476247</th>\n",
              "      <td>546862</td>\n",
              "      <td>9673</td>\n",
              "      <td>2021-04-13</td>\n",
              "      <td>2308</td>\n",
              "      <td>49.0</td>\n",
              "    </tr>\n",
              "    <tr>\n",
              "      <th>5476248</th>\n",
              "      <td>697262</td>\n",
              "      <td>15297</td>\n",
              "      <td>2021-08-20</td>\n",
              "      <td>18307</td>\n",
              "      <td>63.0</td>\n",
              "    </tr>\n",
              "    <tr>\n",
              "      <th>5476249</th>\n",
              "      <td>384202</td>\n",
              "      <td>16197</td>\n",
              "      <td>2021-04-19</td>\n",
              "      <td>6203</td>\n",
              "      <td>100.0</td>\n",
              "    </tr>\n",
              "    <tr>\n",
              "      <th>5476250</th>\n",
              "      <td>319709</td>\n",
              "      <td>4436</td>\n",
              "      <td>2021-08-15</td>\n",
              "      <td>3921</td>\n",
              "      <td>45.0</td>\n",
              "    </tr>\n",
              "  </tbody>\n",
              "</table>\n",
              "</div>\n",
              "      <button class=\"colab-df-convert\" onclick=\"convertToInteractive('df-cbe32b87-d294-4b7c-a158-62cb25a7950f')\"\n",
              "              title=\"Convert this dataframe to an interactive table.\"\n",
              "              style=\"display:none;\">\n",
              "        \n",
              "  <svg xmlns=\"http://www.w3.org/2000/svg\" height=\"24px\"viewBox=\"0 0 24 24\"\n",
              "       width=\"24px\">\n",
              "    <path d=\"M0 0h24v24H0V0z\" fill=\"none\"/>\n",
              "    <path d=\"M18.56 5.44l.94 2.06.94-2.06 2.06-.94-2.06-.94-.94-2.06-.94 2.06-2.06.94zm-11 1L8.5 8.5l.94-2.06 2.06-.94-2.06-.94L8.5 2.5l-.94 2.06-2.06.94zm10 10l.94 2.06.94-2.06 2.06-.94-2.06-.94-.94-2.06-.94 2.06-2.06.94z\"/><path d=\"M17.41 7.96l-1.37-1.37c-.4-.4-.92-.59-1.43-.59-.52 0-1.04.2-1.43.59L10.3 9.45l-7.72 7.72c-.78.78-.78 2.05 0 2.83L4 21.41c.39.39.9.59 1.41.59.51 0 1.02-.2 1.41-.59l7.78-7.78 2.81-2.81c.8-.78.8-2.07 0-2.86zM5.41 20L4 18.59l7.72-7.72 1.47 1.35L5.41 20z\"/>\n",
              "  </svg>\n",
              "      </button>\n",
              "      \n",
              "  <style>\n",
              "    .colab-df-container {\n",
              "      display:flex;\n",
              "      flex-wrap:wrap;\n",
              "      gap: 12px;\n",
              "    }\n",
              "\n",
              "    .colab-df-convert {\n",
              "      background-color: #E8F0FE;\n",
              "      border: none;\n",
              "      border-radius: 50%;\n",
              "      cursor: pointer;\n",
              "      display: none;\n",
              "      fill: #1967D2;\n",
              "      height: 32px;\n",
              "      padding: 0 0 0 0;\n",
              "      width: 32px;\n",
              "    }\n",
              "\n",
              "    .colab-df-convert:hover {\n",
              "      background-color: #E2EBFA;\n",
              "      box-shadow: 0px 1px 2px rgba(60, 64, 67, 0.3), 0px 1px 3px 1px rgba(60, 64, 67, 0.15);\n",
              "      fill: #174EA6;\n",
              "    }\n",
              "\n",
              "    [theme=dark] .colab-df-convert {\n",
              "      background-color: #3B4455;\n",
              "      fill: #D2E3FC;\n",
              "    }\n",
              "\n",
              "    [theme=dark] .colab-df-convert:hover {\n",
              "      background-color: #434B5C;\n",
              "      box-shadow: 0px 1px 3px 1px rgba(0, 0, 0, 0.15);\n",
              "      filter: drop-shadow(0px 1px 2px rgba(0, 0, 0, 0.3));\n",
              "      fill: #FFFFFF;\n",
              "    }\n",
              "  </style>\n",
              "\n",
              "      <script>\n",
              "        const buttonEl =\n",
              "          document.querySelector('#df-cbe32b87-d294-4b7c-a158-62cb25a7950f button.colab-df-convert');\n",
              "        buttonEl.style.display =\n",
              "          google.colab.kernel.accessAllowed ? 'block' : 'none';\n",
              "\n",
              "        async function convertToInteractive(key) {\n",
              "          const element = document.querySelector('#df-cbe32b87-d294-4b7c-a158-62cb25a7950f');\n",
              "          const dataTable =\n",
              "            await google.colab.kernel.invokeFunction('convertToInteractive',\n",
              "                                                     [key], {});\n",
              "          if (!dataTable) return;\n",
              "\n",
              "          const docLinkHtml = 'Like what you see? Visit the ' +\n",
              "            '<a target=\"_blank\" href=https://colab.research.google.com/notebooks/data_table.ipynb>data table notebook</a>'\n",
              "            + ' to learn more about interactive tables.';\n",
              "          element.innerHTML = '';\n",
              "          dataTable['output_type'] = 'display_data';\n",
              "          await google.colab.output.renderOutput(dataTable, element);\n",
              "          const docLink = document.createElement('div');\n",
              "          docLink.innerHTML = docLinkHtml;\n",
              "          element.appendChild(docLink);\n",
              "        }\n",
              "      </script>\n",
              "    </div>\n",
              "  </div>\n",
              "  "
            ],
            "text/plain": [
              "         user_id  item_id   datetime  weight  watched_pct\n",
              "0         176549     9506 2021-05-11    4250         72.0\n",
              "1         699317     1659 2021-05-29    8317        100.0\n",
              "2         656683     7107 2021-05-09      10          0.0\n",
              "3         864613     7638 2021-07-05   14483        100.0\n",
              "4         964868     9506 2021-04-30    6725        100.0\n",
              "5476246   648596    12225 2021-08-13      76          0.0\n",
              "5476247   546862     9673 2021-04-13    2308         49.0\n",
              "5476248   697262    15297 2021-08-20   18307         63.0\n",
              "5476249   384202    16197 2021-04-19    6203        100.0\n",
              "5476250   319709     4436 2021-08-15    3921         45.0"
            ]
          },
          "execution_count": 6,
          "metadata": {},
          "output_type": "execute_result"
        }
      ],
      "source": [
        "def headtail(df):\n",
        "    return pd.concat([df.head(), df.tail()])\n",
        "\n",
        "headtail(interactions)"
      ]
    },
    {
      "cell_type": "code",
      "execution_count": 13,
      "metadata": {
        "colab": {
          "base_uri": "https://localhost:8080/"
        },
        "id": "Tj6EJ7teK5Tz",
        "outputId": "b20aa83b-2656-47eb-f976-74081a1ae7d0"
      },
      "outputs": [
        {
          "name": "stdout",
          "output_type": "stream",
          "text": [
            "<class 'pandas.core.frame.DataFrame'>\n",
            "RangeIndex: 5476251 entries, 0 to 5476250\n",
            "Data columns (total 5 columns):\n",
            " #   Column       Dtype         \n",
            "---  ------       -----         \n",
            " 0   user_id      int64         \n",
            " 1   item_id      int64         \n",
            " 2   datetime     datetime64[ns]\n",
            " 3   weight       int64         \n",
            " 4   watched_pct  float64       \n",
            "dtypes: datetime64[ns](1), float64(1), int64(3)\n",
            "memory usage: 208.9 MB\n"
          ]
        }
      ],
      "source": [
        "interactions.info(memory_usage='deep')"
      ]
    },
    {
      "cell_type": "code",
      "execution_count": 7,
      "metadata": {
        "id": "UlgSv5RjLOla"
      },
      "outputs": [],
      "source": [
        "def generate_subsample(users_count, top_k):\n",
        "    users = np.random.choice(interactions[Columns.User].unique(), users_count, replace=False)\n",
        "    df = interactions[interactions[Columns.User].isin(users)].reset_index(drop=True)\n",
        "    del df[Columns.Datetime], df[Columns.Weight], df['watched_pct']\n",
        "    \n",
        "    recs = np.random.choice(df[Columns.Item], size=(users_count, top_k))\n",
        "    return df, users, recs"
      ]
    },
    {
      "cell_type": "code",
      "execution_count": 8,
      "metadata": {
        "colab": {
          "base_uri": "https://localhost:8080/",
          "height": 424
        },
        "id": "w0CHCnAsMf_3",
        "outputId": "a8ccbeb8-3efe-45ec-e0a8-b201429d858d"
      },
      "outputs": [
        {
          "data": {
            "text/html": [
              "\n",
              "  <div id=\"df-31805789-0ccc-41d1-9851-ed64fa9a03d9\">\n",
              "    <div class=\"colab-df-container\">\n",
              "      <div>\n",
              "<style scoped>\n",
              "    .dataframe tbody tr th:only-of-type {\n",
              "        vertical-align: middle;\n",
              "    }\n",
              "\n",
              "    .dataframe tbody tr th {\n",
              "        vertical-align: top;\n",
              "    }\n",
              "\n",
              "    .dataframe thead th {\n",
              "        text-align: right;\n",
              "    }\n",
              "</style>\n",
              "<table border=\"1\" class=\"dataframe\">\n",
              "  <thead>\n",
              "    <tr style=\"text-align: right;\">\n",
              "      <th></th>\n",
              "      <th>user_id</th>\n",
              "      <th>item_id</th>\n",
              "    </tr>\n",
              "  </thead>\n",
              "  <tbody>\n",
              "    <tr>\n",
              "      <th>0</th>\n",
              "      <td>513902</td>\n",
              "      <td>3614</td>\n",
              "    </tr>\n",
              "    <tr>\n",
              "      <th>1</th>\n",
              "      <td>447592</td>\n",
              "      <td>1241</td>\n",
              "    </tr>\n",
              "    <tr>\n",
              "      <th>2</th>\n",
              "      <td>179618</td>\n",
              "      <td>9988</td>\n",
              "    </tr>\n",
              "    <tr>\n",
              "      <th>3</th>\n",
              "      <td>217915</td>\n",
              "      <td>6563</td>\n",
              "    </tr>\n",
              "    <tr>\n",
              "      <th>4</th>\n",
              "      <td>1074210</td>\n",
              "      <td>15930</td>\n",
              "    </tr>\n",
              "    <tr>\n",
              "      <th>...</th>\n",
              "      <td>...</td>\n",
              "      <td>...</td>\n",
              "    </tr>\n",
              "    <tr>\n",
              "      <th>56725</th>\n",
              "      <td>358802</td>\n",
              "      <td>10636</td>\n",
              "    </tr>\n",
              "    <tr>\n",
              "      <th>56726</th>\n",
              "      <td>373637</td>\n",
              "      <td>9728</td>\n",
              "    </tr>\n",
              "    <tr>\n",
              "      <th>56727</th>\n",
              "      <td>83436</td>\n",
              "      <td>5411</td>\n",
              "    </tr>\n",
              "    <tr>\n",
              "      <th>56728</th>\n",
              "      <td>609195</td>\n",
              "      <td>6258</td>\n",
              "    </tr>\n",
              "    <tr>\n",
              "      <th>56729</th>\n",
              "      <td>993683</td>\n",
              "      <td>15549</td>\n",
              "    </tr>\n",
              "  </tbody>\n",
              "</table>\n",
              "<p>56730 rows × 2 columns</p>\n",
              "</div>\n",
              "      <button class=\"colab-df-convert\" onclick=\"convertToInteractive('df-31805789-0ccc-41d1-9851-ed64fa9a03d9')\"\n",
              "              title=\"Convert this dataframe to an interactive table.\"\n",
              "              style=\"display:none;\">\n",
              "        \n",
              "  <svg xmlns=\"http://www.w3.org/2000/svg\" height=\"24px\"viewBox=\"0 0 24 24\"\n",
              "       width=\"24px\">\n",
              "    <path d=\"M0 0h24v24H0V0z\" fill=\"none\"/>\n",
              "    <path d=\"M18.56 5.44l.94 2.06.94-2.06 2.06-.94-2.06-.94-.94-2.06-.94 2.06-2.06.94zm-11 1L8.5 8.5l.94-2.06 2.06-.94-2.06-.94L8.5 2.5l-.94 2.06-2.06.94zm10 10l.94 2.06.94-2.06 2.06-.94-2.06-.94-.94-2.06-.94 2.06-2.06.94z\"/><path d=\"M17.41 7.96l-1.37-1.37c-.4-.4-.92-.59-1.43-.59-.52 0-1.04.2-1.43.59L10.3 9.45l-7.72 7.72c-.78.78-.78 2.05 0 2.83L4 21.41c.39.39.9.59 1.41.59.51 0 1.02-.2 1.41-.59l7.78-7.78 2.81-2.81c.8-.78.8-2.07 0-2.86zM5.41 20L4 18.59l7.72-7.72 1.47 1.35L5.41 20z\"/>\n",
              "  </svg>\n",
              "      </button>\n",
              "      \n",
              "  <style>\n",
              "    .colab-df-container {\n",
              "      display:flex;\n",
              "      flex-wrap:wrap;\n",
              "      gap: 12px;\n",
              "    }\n",
              "\n",
              "    .colab-df-convert {\n",
              "      background-color: #E8F0FE;\n",
              "      border: none;\n",
              "      border-radius: 50%;\n",
              "      cursor: pointer;\n",
              "      display: none;\n",
              "      fill: #1967D2;\n",
              "      height: 32px;\n",
              "      padding: 0 0 0 0;\n",
              "      width: 32px;\n",
              "    }\n",
              "\n",
              "    .colab-df-convert:hover {\n",
              "      background-color: #E2EBFA;\n",
              "      box-shadow: 0px 1px 2px rgba(60, 64, 67, 0.3), 0px 1px 3px 1px rgba(60, 64, 67, 0.15);\n",
              "      fill: #174EA6;\n",
              "    }\n",
              "\n",
              "    [theme=dark] .colab-df-convert {\n",
              "      background-color: #3B4455;\n",
              "      fill: #D2E3FC;\n",
              "    }\n",
              "\n",
              "    [theme=dark] .colab-df-convert:hover {\n",
              "      background-color: #434B5C;\n",
              "      box-shadow: 0px 1px 3px 1px rgba(0, 0, 0, 0.15);\n",
              "      filter: drop-shadow(0px 1px 2px rgba(0, 0, 0, 0.3));\n",
              "      fill: #FFFFFF;\n",
              "    }\n",
              "  </style>\n",
              "\n",
              "      <script>\n",
              "        const buttonEl =\n",
              "          document.querySelector('#df-31805789-0ccc-41d1-9851-ed64fa9a03d9 button.colab-df-convert');\n",
              "        buttonEl.style.display =\n",
              "          google.colab.kernel.accessAllowed ? 'block' : 'none';\n",
              "\n",
              "        async function convertToInteractive(key) {\n",
              "          const element = document.querySelector('#df-31805789-0ccc-41d1-9851-ed64fa9a03d9');\n",
              "          const dataTable =\n",
              "            await google.colab.kernel.invokeFunction('convertToInteractive',\n",
              "                                                     [key], {});\n",
              "          if (!dataTable) return;\n",
              "\n",
              "          const docLinkHtml = 'Like what you see? Visit the ' +\n",
              "            '<a target=\"_blank\" href=https://colab.research.google.com/notebooks/data_table.ipynb>data table notebook</a>'\n",
              "            + ' to learn more about interactive tables.';\n",
              "          element.innerHTML = '';\n",
              "          dataTable['output_type'] = 'display_data';\n",
              "          await google.colab.output.renderOutput(dataTable, element);\n",
              "          const docLink = document.createElement('div');\n",
              "          docLink.innerHTML = docLinkHtml;\n",
              "          element.appendChild(docLink);\n",
              "        }\n",
              "      </script>\n",
              "    </div>\n",
              "  </div>\n",
              "  "
            ],
            "text/plain": [
              "       user_id  item_id\n",
              "0       513902     3614\n",
              "1       447592     1241\n",
              "2       179618     9988\n",
              "3       217915     6563\n",
              "4      1074210    15930\n",
              "...        ...      ...\n",
              "56725   358802    10636\n",
              "56726   373637     9728\n",
              "56727    83436     5411\n",
              "56728   609195     6258\n",
              "56729   993683    15549\n",
              "\n",
              "[56730 rows x 2 columns]"
            ]
          },
          "execution_count": 8,
          "metadata": {},
          "output_type": "execute_result"
        }
      ],
      "source": [
        "top_k = 10\n",
        "df, users, recs = generate_subsample(10000, top_k)\n",
        "df"
      ]
    },
    {
      "cell_type": "code",
      "execution_count": 9,
      "metadata": {
        "colab": {
          "base_uri": "https://localhost:8080/"
        },
        "id": "FJ8n1aIvMtTG",
        "outputId": "37d7df50-6209-49fa-91d0-dbacbfcb4ab7"
      },
      "outputs": [
        {
          "data": {
            "text/plain": [
              "((10000,), (10000, 10))"
            ]
          },
          "execution_count": 9,
          "metadata": {},
          "output_type": "execute_result"
        }
      ],
      "source": [
        "users.shape, recs.shape"
      ]
    },
    {
      "cell_type": "code",
      "execution_count": 10,
      "metadata": {
        "colab": {
          "base_uri": "https://localhost:8080/"
        },
        "id": "D0_KmwXoM7Mv",
        "outputId": "7c9f98f4-8bae-43cb-9164-83a4442d718f"
      },
      "outputs": [
        {
          "data": {
            "text/plain": [
              "array([[ 2657, 10077,  9728, ...,  3379,  3734,  5452],\n",
              "       [ 6033, 14607,   142, ...,  9728,  2780,  9728],\n",
              "       [  285,  9982,  4151, ...,  4151,  8419,  7662],\n",
              "       ...,\n",
              "       [ 6968, 14703, 11586, ...,  9996, 12808, 15297],\n",
              "       [13865,  7164,  7417, ...,  7102, 16228,  1105],\n",
              "       [10316,  5635,  7799, ...,  3384,  9817, 13882]])"
            ]
          },
          "execution_count": 10,
          "metadata": {},
          "output_type": "execute_result"
        }
      ],
      "source": [
        "recs"
      ]
    },
    {
      "cell_type": "code",
      "execution_count": 11,
      "metadata": {
        "id": "YEOUn8LlNR5n"
      },
      "outputs": [],
      "source": [
        "target = df.values"
      ]
    },
    {
      "cell_type": "code",
      "execution_count": 12,
      "metadata": {
        "colab": {
          "base_uri": "https://localhost:8080/"
        },
        "id": "pI6cVyJZNTIN",
        "outputId": "9525397b-6494-4c5c-846b-c95e0be6a7a1"
      },
      "outputs": [
        {
          "data": {
            "text/plain": [
              "array([513902,   3614])"
            ]
          },
          "execution_count": 12,
          "metadata": {},
          "output_type": "execute_result"
        }
      ],
      "source": [
        "target[0]"
      ]
    },
    {
      "cell_type": "code",
      "execution_count": 13,
      "metadata": {
        "id": "Voko-19bNtyO"
      },
      "outputs": [],
      "source": [
        "def naive_mrr(target: np.ndarray, users: np.ndarray, recs: np.ndarray):\n",
        "    mrr = 0\n",
        "    for i, user in enumerate(users):\n",
        "        res = 0\n",
        "        user_target = target[target[:, 0] == user][:, 1]\n",
        "        for j, rec in enumerate(recs[i]):\n",
        "            if rec in user_target:\n",
        "                res = 1/(j+1)\n",
        "                break\n",
        "        mrr += res\n",
        "    return mrr / len(users)"
      ]
    },
    {
      "cell_type": "code",
      "execution_count": 14,
      "metadata": {
        "colab": {
          "base_uri": "https://localhost:8080/"
        },
        "id": "BR26b1mHQ4-a",
        "outputId": "90fdae41-1e01-41a2-c744-f2972fe50d46"
      },
      "outputs": [
        {
          "data": {
            "text/plain": [
              "0.07836801587301619"
            ]
          },
          "execution_count": 14,
          "metadata": {},
          "output_type": "execute_result"
        }
      ],
      "source": [
        "naive_mrr(target, users, recs)"
      ]
    },
    {
      "cell_type": "code",
      "execution_count": 15,
      "metadata": {
        "id": "h8xOrtBGSN-B"
      },
      "outputs": [],
      "source": [
        "@nb.njit(cache=True, parallel=True)\n",
        "def numba_mrr(target: np.ndarray, users: np.ndarray, recs: np.ndarray):\n",
        "    mrr = np.zeros(len(users))\n",
        "    for i in nb.prange(len(users)):\n",
        "        user = users[i]\n",
        "        p = 0\n",
        "        user_target = target[target[:, 0] == user][:, 1]\n",
        "        for j, rec in enumerate(recs[i]):\n",
        "            if rec in user_target:\n",
        "                p = 1/(j+1)\n",
        "                break\n",
        "        mrr[i] = p\n",
        "    return mrr.mean()"
      ]
    },
    {
      "cell_type": "code",
      "execution_count": 16,
      "metadata": {
        "colab": {
          "base_uri": "https://localhost:8080/"
        },
        "id": "5ONBpaQUTMWI",
        "outputId": "f3e43fc7-52f5-4657-c804-3e7a98f787bf"
      },
      "outputs": [
        {
          "data": {
            "text/plain": [
              "0.07836801587301577"
            ]
          },
          "execution_count": 16,
          "metadata": {},
          "output_type": "execute_result"
        }
      ],
      "source": [
        "numba_mrr(target, users, recs)"
      ]
    },
    {
      "cell_type": "code",
      "execution_count": 17,
      "metadata": {
        "id": "F-6vUZakTlvH"
      },
      "outputs": [],
      "source": [
        "def pandas_mrr(df: pd.DataFrame, users: np.ndarray, recs: np.ndarray):\n",
        "    k = recs.shape[1]\n",
        "    MAX_RANK = 100000\n",
        "    df_recs = pd.DataFrame({\n",
        "        Columns.User: np.repeat(users, k),\n",
        "        Columns.Item: recs.ravel()\n",
        "    })\n",
        "    df_recs[Columns.Rank] = df_recs.groupby(Columns.User).cumcount() + 1\n",
        "    df_recs = df.merge(df_recs, how='left', left_on=Columns.UserItem, right_on=Columns.UserItem).fillna(MAX_RANK)\n",
        "\n",
        "    mrr = (1 / df_recs.groupby('user_id')['rank'].min()).mean()\n",
        "    return mrr"
      ]
    },
    {
      "cell_type": "code",
      "execution_count": 18,
      "metadata": {
        "colab": {
          "base_uri": "https://localhost:8080/"
        },
        "id": "d9vf-wIgXVwg",
        "outputId": "abdb630c-1e51-4ac7-9f32-fd9e46d39092"
      },
      "outputs": [
        {
          "data": {
            "text/plain": [
              "0.07837570687301587"
            ]
          },
          "execution_count": 18,
          "metadata": {},
          "output_type": "execute_result"
        }
      ],
      "source": [
        "pandas_mrr(df, users, recs)"
      ]
    },
    {
      "cell_type": "code",
      "execution_count": 72,
      "metadata": {
        "id": "0hUwR4I2ai1w"
      },
      "outputs": [],
      "source": [
        "elapsed_time = timeit.timeit('pandas_mrr(df, users, recs)', \"from __main__ import pandas_mrr, df, target, users, recs\", number=100)/100"
      ]
    },
    {
      "cell_type": "code",
      "execution_count": 73,
      "metadata": {
        "colab": {
          "base_uri": "https://localhost:8080/"
        },
        "id": "_uah5rFmbQNz",
        "outputId": "2fdc4d1f-b585-4b64-f8e6-399bb0697d9a"
      },
      "outputs": [
        {
          "data": {
            "text/plain": [
              "0.05222157385000173"
            ]
          },
          "execution_count": 73,
          "metadata": {},
          "output_type": "execute_result"
        }
      ],
      "source": [
        "elapsed_time"
      ]
    },
    {
      "cell_type": "code",
      "execution_count": 22,
      "metadata": {
        "colab": {
          "base_uri": "https://localhost:8080/",
          "height": 49,
          "referenced_widgets": [
            "5c0f322200fa448f8e7281dc6954c620",
            "4aae742ba04b4e76bc66c859868bb618",
            "ad9a4fc8e493408f9f628685eb702692",
            "b9494011034b4092b70f360511135c42",
            "942768b14ecb45b0ac9644878460b9e3",
            "ff95caa27a394094b107991d309dd593",
            "d37af58790284418b1011b965ed55ff7",
            "cee28f469b83402a9f636279aecdfe02",
            "b0c57c0475dc436d84f4fd431d78e268",
            "fb6da02cc36e4d8c9172aafb6aff03e2",
            "587bdb7d82af44fda47b83bf270cbd0f"
          ]
        },
        "id": "0ya1UAfKYicB",
        "outputId": "3f683c7f-bfae-4bc9-8776-ad3ae5bc4dd9"
      },
      "outputs": [
        {
          "data": {
            "application/vnd.jupyter.widget-view+json": {
              "model_id": "5c0f322200fa448f8e7281dc6954c620",
              "version_major": 2,
              "version_minor": 0
            },
            "text/plain": [
              "  0%|          | 0/4 [00:00<?, ?it/s]"
            ]
          },
          "metadata": {},
          "output_type": "display_data"
        }
      ],
      "source": [
        "%timeit\n",
        "list_users_count = [100, 1000, 10000, 100000] \n",
        "list_top_k = [10, 50, 100]\n",
        "c_len = len(list_users_count)\n",
        "k_len = len(list_top_k)\n",
        "time_naive = np.empty((c_len, k_len))\n",
        "time_numba = np.empty(((c_len, k_len)))\n",
        "time_pd = np.empty(((c_len, k_len)))\n",
        "\n",
        "for i, user_count in enumerate(tqdm(list_users_count)):\n",
        "    for j, top_k in enumerate(list_top_k):\n",
        "        df, users, recs = generate_subsample(user_count, top_k)\n",
        "        target = df.values\n",
        "        \n",
        "        time_naive[i][j] = timeit.timeit('naive_mrr(target, users, recs)', setup=\"from __main__ import naive_mrr, target, users, recs\", number=1) / 1\n",
        "        time_numba[i][j] = timeit.timeit('numba_mrr(target, users, recs)', setup=\"from __main__ import numba_mrr, target, users, recs\", number=1) / 1\n",
        "        time_pd[i][j] = timeit.timeit('pandas_mrr(df, users, recs)', setup=\"from __main__ import pandas_mrr, df, users, recs\", number=1) / 1"
      ]
    },
    {
      "cell_type": "code",
      "execution_count": 36,
      "metadata": {
        "colab": {
          "base_uri": "https://localhost:8080/",
          "height": 513
        },
        "id": "Xp2Q8W9dhF7f",
        "outputId": "3d358ed4-62f7-4005-daea-0632eb6b1274"
      },
      "outputs": [
        {
          "data": {
            "image/png": "[encoded data removed]",
            "text/plain": [
              "<Figure size 1800x576 with 3 Axes>"
            ]
          },
          "metadata": {
            "needs_background": "light"
          },
          "output_type": "display_data"
        }
      ],
      "source": [
        "fig, axis = plt.subplots(1, k_len, figsize=(25, 8))\n",
        "for i in range(k_len):\n",
        "    axis[i].plot(list_users_count, time_naive[:, i], label='Naive')\n",
        "    axis[i].plot(list_users_count, time_numba[:, i], label='Numba')\n",
        "    axis[i].plot(list_users_count, time_pd[:, i], label='Pandas')\n",
        "    axis[i].set_title(f'top_{list_top_k[i]}')\n",
        "    axis[i].legend()\n",
        "    axis[i].set_xlabel('users_count')\n",
        "    axis[i].set_ylabel('time')\n",
        "    axis[i].grid()\n",
        "    \n",
        "plt.show()"
      ]
    }
  ],
  "metadata": {
    "colab": {
      "provenance": []
    },
    "gpuClass": "standard",
    "kernelspec": {
      "display_name": "Python 3",
      "name": "python3"
    },
    "language_info": {
      "name": "python"
    },
    "widgets": {
      "application/vnd.jupyter.widget-state+json": {
        "2966eb8831eb4c92a8b7bfff8d293169": {
          "model_module": "@jupyter-widgets/base",
          "model_module_version": "1.2.0",
          "model_name": "LayoutModel",
          "state": {
            "_model_module": "@jupyter-widgets/base",
            "_model_module_version": "1.2.0",
            "_model_name": "LayoutModel",
            "_view_count": null,
            "_view_module": "@jupyter-widgets/base",
            "_view_module_version": "1.2.0",
            "_view_name": "LayoutView",
            "align_content": null,
            "align_items": null,
            "align_self": null,
            "border": null,
            "bottom": null,
            "display": null,
            "flex": null,
            "flex_flow": null,
            "grid_area": null,
            "grid_auto_columns": null,
            "grid_auto_flow": null,
            "grid_auto_rows": null,
            "grid_column": null,
            "grid_gap": null,
            "grid_row": null,
            "grid_template_areas": null,
            "grid_template_columns": null,
            "grid_template_rows": null,
            "height": null,
            "justify_content": null,
            "justify_items": null,
            "left": null,
            "margin": null,
            "max_height": null,
            "max_width": null,
            "min_height": null,
            "min_width": null,
            "object_fit": null,
            "object_position": null,
            "order": null,
            "overflow": null,
            "overflow_x": null,
            "overflow_y": null,
            "padding": null,
            "right": null,
            "top": null,
            "visibility": null,
            "width": null
          }
        },
        "2b240e53c4984a9d98c69f8cd69d6dc1": {
          "model_module": "@jupyter-widgets/controls",
          "model_module_version": "1.5.0",
          "model_name": "HBoxModel",
          "state": {
            "_dom_classes": [],
            "_model_module": "@jupyter-widgets/controls",
            "_model_module_version": "1.5.0",
            "_model_name": "HBoxModel",
            "_view_count": null,
            "_view_module": "@jupyter-widgets/controls",
            "_view_module_version": "1.5.0",
            "_view_name": "HBoxView",
            "box_style": "",
            "children": [
              "IPY_MODEL_b88917b5274d40b2b48e4576275cff7c",
              "IPY_MODEL_40d227204fe34cb999aa4270154e7a0a",
              "IPY_MODEL_4974a1755c694e8b80b1d7943f4f7183"
            ],
            "layout": "IPY_MODEL_c7b2f2e79a304ef08549dce2aeae519d"
          }
        },
        "40d227204fe34cb999aa4270154e7a0a": {
          "model_module": "@jupyter-widgets/controls",
          "model_module_version": "1.5.0",
          "model_name": "FloatProgressModel",
          "state": {
            "_dom_classes": [],
            "_model_module": "@jupyter-widgets/controls",
            "_model_module_version": "1.5.0",
            "_model_name": "FloatProgressModel",
            "_view_count": null,
            "_view_module": "@jupyter-widgets/controls",
            "_view_module_version": "1.5.0",
            "_view_name": "ProgressView",
            "bar_style": "",
            "description": "",
            "description_tooltip": null,
            "layout": "IPY_MODEL_2966eb8831eb4c92a8b7bfff8d293169",
            "max": 78795295,
            "min": 0,
            "orientation": "horizontal",
            "style": "IPY_MODEL_82422570d54a419ea2a2f608452f1379",
            "value": 78795295
          }
        },
        "495b19044d364d27827649cb88d656cd": {
          "model_module": "@jupyter-widgets/base",
          "model_module_version": "1.2.0",
          "model_name": "LayoutModel",
          "state": {
            "_model_module": "@jupyter-widgets/base",
            "_model_module_version": "1.2.0",
            "_model_name": "LayoutModel",
            "_view_count": null,
            "_view_module": "@jupyter-widgets/base",
            "_view_module_version": "1.2.0",
            "_view_name": "LayoutView",
            "align_content": null,
            "align_items": null,
            "align_self": null,
            "border": null,
            "bottom": null,
            "display": null,
            "flex": null,
            "flex_flow": null,
            "grid_area": null,
            "grid_auto_columns": null,
            "grid_auto_flow": null,
            "grid_auto_rows": null,
            "grid_column": null,
            "grid_gap": null,
            "grid_row": null,
            "grid_template_areas": null,
            "grid_template_columns": null,
            "grid_template_rows": null,
            "height": null,
            "justify_content": null,
            "justify_items": null,
            "left": null,
            "margin": null,
            "max_height": null,
            "max_width": null,
            "min_height": null,
            "min_width": null,
            "object_fit": null,
            "object_position": null,
            "order": null,
            "overflow": null,
            "overflow_x": null,
            "overflow_y": null,
            "padding": null,
            "right": null,
            "top": null,
            "visibility": null,
            "width": null
          }
        },
        "4974a1755c694e8b80b1d7943f4f7183": {
          "model_module": "@jupyter-widgets/controls",
          "model_module_version": "1.5.0",
          "model_name": "HTMLModel",
          "state": {
            "_dom_classes": [],
            "_model_module": "@jupyter-widgets/controls",
            "_model_module_version": "1.5.0",
            "_model_name": "HTMLModel",
            "_view_count": null,
            "_view_module": "@jupyter-widgets/controls",
            "_view_module_version": "1.5.0",
            "_view_name": "HTMLView",
            "description": "",
            "description_tooltip": null,
            "layout": "IPY_MODEL_495b19044d364d27827649cb88d656cd",
            "placeholder": "​",
            "style": "IPY_MODEL_c3c3cfef71d84704b0866beea14b0938",
            "value": " 78.8M/78.8M [00:20&lt;00:00, 237MiB/s]"
          }
        },
        "4aae742ba04b4e76bc66c859868bb618": {
          "model_module": "@jupyter-widgets/controls",
          "model_module_version": "1.5.0",
          "model_name": "HTMLModel",
          "state": {
            "_dom_classes": [],
            "_model_module": "@jupyter-widgets/controls",
            "_model_module_version": "1.5.0",
            "_model_name": "HTMLModel",
            "_view_count": null,
            "_view_module": "@jupyter-widgets/controls",
            "_view_module_version": "1.5.0",
            "_view_name": "HTMLView",
            "description": "",
            "description_tooltip": null,
            "layout": "IPY_MODEL_ff95caa27a394094b107991d309dd593",
            "placeholder": "​",
            "style": "IPY_MODEL_d37af58790284418b1011b965ed55ff7",
            "value": "100%"
          }
        },
        "587bdb7d82af44fda47b83bf270cbd0f": {
          "model_module": "@jupyter-widgets/controls",
          "model_module_version": "1.5.0",
          "model_name": "DescriptionStyleModel",
          "state": {
            "_model_module": "@jupyter-widgets/controls",
            "_model_module_version": "1.5.0",
            "_model_name": "DescriptionStyleModel",
            "_view_count": null,
            "_view_module": "@jupyter-widgets/base",
            "_view_module_version": "1.2.0",
            "_view_name": "StyleView",
            "description_width": ""
          }
        },
        "5c0f322200fa448f8e7281dc6954c620": {
          "model_module": "@jupyter-widgets/controls",
          "model_module_version": "1.5.0",
          "model_name": "HBoxModel",
          "state": {
            "_dom_classes": [],
            "_model_module": "@jupyter-widgets/controls",
            "_model_module_version": "1.5.0",
            "_model_name": "HBoxModel",
            "_view_count": null,
            "_view_module": "@jupyter-widgets/controls",
            "_view_module_version": "1.5.0",
            "_view_name": "HBoxView",
            "box_style": "",
            "children": [
              "IPY_MODEL_4aae742ba04b4e76bc66c859868bb618",
              "IPY_MODEL_ad9a4fc8e493408f9f628685eb702692",
              "IPY_MODEL_b9494011034b4092b70f360511135c42"
            ],
            "layout": "IPY_MODEL_942768b14ecb45b0ac9644878460b9e3"
          }
        },
        "82422570d54a419ea2a2f608452f1379": {
          "model_module": "@jupyter-widgets/controls",
          "model_module_version": "1.5.0",
          "model_name": "ProgressStyleModel",
          "state": {
            "_model_module": "@jupyter-widgets/controls",
            "_model_module_version": "1.5.0",
            "_model_name": "ProgressStyleModel",
            "_view_count": null,
            "_view_module": "@jupyter-widgets/base",
            "_view_module_version": "1.2.0",
            "_view_name": "StyleView",
            "bar_color": null,
            "description_width": ""
          }
        },
        "942768b14ecb45b0ac9644878460b9e3": {
          "model_module": "@jupyter-widgets/base",
          "model_module_version": "1.2.0",
          "model_name": "LayoutModel",
          "state": {
            "_model_module": "@jupyter-widgets/base",
            "_model_module_version": "1.2.0",
            "_model_name": "LayoutModel",
            "_view_count": null,
            "_view_module": "@jupyter-widgets/base",
            "_view_module_version": "1.2.0",
            "_view_name": "LayoutView",
            "align_content": null,
            "align_items": null,
            "align_self": null,
            "border": null,
            "bottom": null,
            "display": null,
            "flex": null,
            "flex_flow": null,
            "grid_area": null,
            "grid_auto_columns": null,
            "grid_auto_flow": null,
            "grid_auto_rows": null,
            "grid_column": null,
            "grid_gap": null,
            "grid_row": null,
            "grid_template_areas": null,
            "grid_template_columns": null,
            "grid_template_rows": null,
            "height": null,
            "justify_content": null,
            "justify_items": null,
            "left": null,
            "margin": null,
            "max_height": null,
            "max_width": null,
            "min_height": null,
            "min_width": null,
            "object_fit": null,
            "object_position": null,
            "order": null,
            "overflow": null,
            "overflow_x": null,
            "overflow_y": null,
            "padding": null,
            "right": null,
            "top": null,
            "visibility": null,
            "width": null
          }
        },
        "ad9a4fc8e493408f9f628685eb702692": {
          "model_module": "@jupyter-widgets/controls",
          "model_module_version": "1.5.0",
          "model_name": "FloatProgressModel",
          "state": {
            "_dom_classes": [],
            "_model_module": "@jupyter-widgets/controls",
            "_model_module_version": "1.5.0",
            "_model_name": "FloatProgressModel",
            "_view_count": null,
            "_view_module": "@jupyter-widgets/controls",
            "_view_module_version": "1.5.0",
            "_view_name": "ProgressView",
            "bar_style": "success",
            "description": "",
            "description_tooltip": null,
            "layout": "IPY_MODEL_cee28f469b83402a9f636279aecdfe02",
            "max": 4,
            "min": 0,
            "orientation": "horizontal",
            "style": "IPY_MODEL_b0c57c0475dc436d84f4fd431d78e268",
            "value": 4
          }
        },
        "b0c57c0475dc436d84f4fd431d78e268": {
          "model_module": "@jupyter-widgets/controls",
          "model_module_version": "1.5.0",
          "model_name": "ProgressStyleModel",
          "state": {
            "_model_module": "@jupyter-widgets/controls",
            "_model_module_version": "1.5.0",
            "_model_name": "ProgressStyleModel",
            "_view_count": null,
            "_view_module": "@jupyter-widgets/base",
            "_view_module_version": "1.2.0",
            "_view_name": "StyleView",
            "bar_color": null,
            "description_width": ""
          }
        },
        "b88917b5274d40b2b48e4576275cff7c": {
          "model_module": "@jupyter-widgets/controls",
          "model_module_version": "1.5.0",
          "model_name": "HTMLModel",
          "state": {
            "_dom_classes": [],
            "_model_module": "@jupyter-widgets/controls",
            "_model_module_version": "1.5.0",
            "_model_name": "HTMLModel",
            "_view_count": null,
            "_view_module": "@jupyter-widgets/controls",
            "_view_module_version": "1.5.0",
            "_view_name": "HTMLView",
            "description": "",
            "description_tooltip": null,
            "layout": "IPY_MODEL_dbf437c0b74c4760968e8bbc97141eb2",
            "placeholder": "​",
            "style": "IPY_MODEL_bbbef68ef4824507aab89f57b6398328",
            "value": "kion dataset download: 100%"
          }
        },
        "b9494011034b4092b70f360511135c42": {
          "model_module": "@jupyter-widgets/controls",
          "model_module_version": "1.5.0",
          "model_name": "HTMLModel",
          "state": {
            "_dom_classes": [],
            "_model_module": "@jupyter-widgets/controls",
            "_model_module_version": "1.5.0",
            "_model_name": "HTMLModel",
            "_view_count": null,
            "_view_module": "@jupyter-widgets/controls",
            "_view_module_version": "1.5.0",
            "_view_name": "HTMLView",
            "description": "",
            "description_tooltip": null,
            "layout": "IPY_MODEL_fb6da02cc36e4d8c9172aafb6aff03e2",
            "placeholder": "​",
            "style": "IPY_MODEL_587bdb7d82af44fda47b83bf270cbd0f",
            "value": " 4/4 [16:11&lt;00:00, 381.16s/it]"
          }
        },
        "bbbef68ef4824507aab89f57b6398328": {
          "model_module": "@jupyter-widgets/controls",
          "model_module_version": "1.5.0",
          "model_name": "DescriptionStyleModel",
          "state": {
            "_model_module": "@jupyter-widgets/controls",
            "_model_module_version": "1.5.0",
            "_model_name": "DescriptionStyleModel",
            "_view_count": null,
            "_view_module": "@jupyter-widgets/base",
            "_view_module_version": "1.2.0",
            "_view_name": "StyleView",
            "description_width": ""
          }
        },
        "c3c3cfef71d84704b0866beea14b0938": {
          "model_module": "@jupyter-widgets/controls",
          "model_module_version": "1.5.0",
          "model_name": "DescriptionStyleModel",
          "state": {
            "_model_module": "@jupyter-widgets/controls",
            "_model_module_version": "1.5.0",
            "_model_name": "DescriptionStyleModel",
            "_view_count": null,
            "_view_module": "@jupyter-widgets/base",
            "_view_module_version": "1.2.0",
            "_view_name": "StyleView",
            "description_width": ""
          }
        },
        "c7b2f2e79a304ef08549dce2aeae519d": {
          "model_module": "@jupyter-widgets/base",
          "model_module_version": "1.2.0",
          "model_name": "LayoutModel",
          "state": {
            "_model_module": "@jupyter-widgets/base",
            "_model_module_version": "1.2.0",
            "_model_name": "LayoutModel",
            "_view_count": null,
            "_view_module": "@jupyter-widgets/base",
            "_view_module_version": "1.2.0",
            "_view_name": "LayoutView",
            "align_content": null,
            "align_items": null,
            "align_self": null,
            "border": null,
            "bottom": null,
            "display": null,
            "flex": null,
            "flex_flow": null,
            "grid_area": null,
            "grid_auto_columns": null,
            "grid_auto_flow": null,
            "grid_auto_rows": null,
            "grid_column": null,
            "grid_gap": null,
            "grid_row": null,
            "grid_template_areas": null,
            "grid_template_columns": null,
            "grid_template_rows": null,
            "height": null,
            "justify_content": null,
            "justify_items": null,
            "left": null,
            "margin": null,
            "max_height": null,
            "max_width": null,
            "min_height": null,
            "min_width": null,
            "object_fit": null,
            "object_position": null,
            "order": null,
            "overflow": null,
            "overflow_x": null,
            "overflow_y": null,
            "padding": null,
            "right": null,
            "top": null,
            "visibility": null,
            "width": null
          }
        },
        "cee28f469b83402a9f636279aecdfe02": {
          "model_module": "@jupyter-widgets/base",
          "model_module_version": "1.2.0",
          "model_name": "LayoutModel",
          "state": {
            "_model_module": "@jupyter-widgets/base",
            "_model_module_version": "1.2.0",
            "_model_name": "LayoutModel",
            "_view_count": null,
            "_view_module": "@jupyter-widgets/base",
            "_view_module_version": "1.2.0",
            "_view_name": "LayoutView",
            "align_content": null,
            "align_items": null,
            "align_self": null,
            "border": null,
            "bottom": null,
            "display": null,
            "flex": null,
            "flex_flow": null,
            "grid_area": null,
            "grid_auto_columns": null,
            "grid_auto_flow": null,
            "grid_auto_rows": null,
            "grid_column": null,
            "grid_gap": null,
            "grid_row": null,
            "grid_template_areas": null,
            "grid_template_columns": null,
            "grid_template_rows": null,
            "height": null,
            "justify_content": null,
            "justify_items": null,
            "left": null,
            "margin": null,
            "max_height": null,
            "max_width": null,
            "min_height": null,
            "min_width": null,
            "object_fit": null,
            "object_position": null,
            "order": null,
            "overflow": null,
            "overflow_x": null,
            "overflow_y": null,
            "padding": null,
            "right": null,
            "top": null,
            "visibility": null,
            "width": null
          }
        },
        "d37af58790284418b1011b965ed55ff7": {
          "model_module": "@jupyter-widgets/controls",
          "model_module_version": "1.5.0",
          "model_name": "DescriptionStyleModel",
          "state": {
            "_model_module": "@jupyter-widgets/controls",
            "_model_module_version": "1.5.0",
            "_model_name": "DescriptionStyleModel",
            "_view_count": null,
            "_view_module": "@jupyter-widgets/base",
            "_view_module_version": "1.2.0",
            "_view_name": "StyleView",
            "description_width": ""
          }
        },
        "dbf437c0b74c4760968e8bbc97141eb2": {
          "model_module": "@jupyter-widgets/base",
          "model_module_version": "1.2.0",
          "model_name": "LayoutModel",
          "state": {
            "_model_module": "@jupyter-widgets/base",
            "_model_module_version": "1.2.0",
            "_model_name": "LayoutModel",
            "_view_count": null,
            "_view_module": "@jupyter-widgets/base",
            "_view_module_version": "1.2.0",
            "_view_name": "LayoutView",
            "align_content": null,
            "align_items": null,
            "align_self": null,
            "border": null,
            "bottom": null,
            "display": null,
            "flex": null,
            "flex_flow": null,
            "grid_area": null,
            "grid_auto_columns": null,
            "grid_auto_flow": null,
            "grid_auto_rows": null,
            "grid_column": null,
            "grid_gap": null,
            "grid_row": null,
            "grid_template_areas": null,
            "grid_template_columns": null,
            "grid_template_rows": null,
            "height": null,
            "justify_content": null,
            "justify_items": null,
            "left": null,
            "margin": null,
            "max_height": null,
            "max_width": null,
            "min_height": null,
            "min_width": null,
            "object_fit": null,
            "object_position": null,
            "order": null,
            "overflow": null,
            "overflow_x": null,
            "overflow_y": null,
            "padding": null,
            "right": null,
            "top": null,
            "visibility": null,
            "width": null
          }
        },
        "fb6da02cc36e4d8c9172aafb6aff03e2": {
          "model_module": "@jupyter-widgets/base",
          "model_module_version": "1.2.0",
          "model_name": "LayoutModel",
          "state": {
            "_model_module": "@jupyter-widgets/base",
            "_model_module_version": "1.2.0",
            "_model_name": "LayoutModel",
            "_view_count": null,
            "_view_module": "@jupyter-widgets/base",
            "_view_module_version": "1.2.0",
            "_view_name": "LayoutView",
            "align_content": null,
            "align_items": null,
            "align_self": null,
            "border": null,
            "bottom": null,
            "display": null,
            "flex": null,
            "flex_flow": null,
            "grid_area": null,
            "grid_auto_columns": null,
            "grid_auto_flow": null,
            "grid_auto_rows": null,
            "grid_column": null,
            "grid_gap": null,
            "grid_row": null,
            "grid_template_areas": null,
            "grid_template_columns": null,
            "grid_template_rows": null,
            "height": null,
            "justify_content": null,
            "justify_items": null,
            "left": null,
            "margin": null,
            "max_height": null,
            "max_width": null,
            "min_height": null,
            "min_width": null,
            "object_fit": null,
            "object_position": null,
            "order": null,
            "overflow": null,
            "overflow_x": null,
            "overflow_y": null,
            "padding": null,
            "right": null,
            "top": null,
            "visibility": null,
            "width": null
          }
        },
        "ff95caa27a394094b107991d309dd593": {
          "model_module": "@jupyter-widgets/base",
          "model_module_version": "1.2.0",
          "model_name": "LayoutModel",
          "state": {
            "_model_module": "@jupyter-widgets/base",
            "_model_module_version": "1.2.0",
            "_model_name": "LayoutModel",
            "_view_count": null,
            "_view_module": "@jupyter-widgets/base",
            "_view_module_version": "1.2.0",
            "_view_name": "LayoutView",
            "align_content": null,
            "align_items": null,
            "align_self": null,
            "border": null,
            "bottom": null,
            "display": null,
            "flex": null,
            "flex_flow": null,
            "grid_area": null,
            "grid_auto_columns": null,
            "grid_auto_flow": null,
            "grid_auto_rows": null,
            "grid_column": null,
            "grid_gap": null,
            "grid_row": null,
            "grid_template_areas": null,
            "grid_template_columns": null,
            "grid_template_rows": null,
            "height": null,
            "justify_content": null,
            "justify_items": null,
            "left": null,
            "margin": null,
            "max_height": null,
            "max_width": null,
            "min_height": null,
            "min_width": null,
            "object_fit": null,
            "object_position": null,
            "order": null,
            "overflow": null,
            "overflow_x": null,
            "overflow_y": null,
            "padding": null,
            "right": null,
            "top": null,
            "visibility": null,
            "width": null
          }
        }
      }
    }
  },
  "nbformat": 4,
  "nbformat_minor": 0
}
